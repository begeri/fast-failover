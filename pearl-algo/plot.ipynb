{
 "cells": [
  {
   "cell_type": "code",
   "execution_count": 1,
   "metadata": {},
   "outputs": [],
   "source": [
    "import networkx as nx\n",
    "import matplotlib as plt\n",
    "import tikzplotlib\n",
    "import pandas as pd\n",
    "\n",
    "from plot import *\n"
   ]
  },
  {
   "cell_type": "code",
   "execution_count": null,
   "metadata": {},
   "outputs": [
    {
     "data": {
      "text/html": [
       "<div>\n",
       "<style scoped>\n",
       "    .dataframe tbody tr th:only-of-type {\n",
       "        vertical-align: middle;\n",
       "    }\n",
       "\n",
       "    .dataframe tbody tr th {\n",
       "        vertical-align: top;\n",
       "    }\n",
       "\n",
       "    .dataframe thead th {\n",
       "        text-align: right;\n",
       "    }\n",
       "</style>\n",
       "<table border=\"1\" class=\"dataframe\">\n",
       "  <thead>\n",
       "    <tr style=\"text-align: right;\">\n",
       "      <th></th>\n",
       "      <th>Unnamed: 0</th>\n",
       "      <th>NUM NODES</th>\n",
       "      <th>NUM EDGES</th>\n",
       "      <th>PEARL DEPTH</th>\n",
       "      <th>GRAPH NAME</th>\n",
       "      <th>NUM PEARLS</th>\n",
       "      <th>AVG PEARL SIZE</th>\n",
       "      <th>MIN PEARL SIZE</th>\n",
       "      <th>MAX PEARL SIZE</th>\n",
       "      <th>TIME</th>\n",
       "    </tr>\n",
       "  </thead>\n",
       "  <tbody>\n",
       "    <tr>\n",
       "      <th>158</th>\n",
       "      <td>158</td>\n",
       "      <td>754</td>\n",
       "      <td>899</td>\n",
       "      <td>3</td>\n",
       "      <td>Kdl.graphml</td>\n",
       "      <td>11</td>\n",
       "      <td>18.636364</td>\n",
       "      <td>1.0</td>\n",
       "      <td>185.0</td>\n",
       "      <td>29.196892</td>\n",
       "    </tr>\n",
       "    <tr>\n",
       "      <th>54</th>\n",
       "      <td>54</td>\n",
       "      <td>197</td>\n",
       "      <td>245</td>\n",
       "      <td>5</td>\n",
       "      <td>Cogentco.graphml</td>\n",
       "      <td>7</td>\n",
       "      <td>8.857143</td>\n",
       "      <td>2.0</td>\n",
       "      <td>46.0</td>\n",
       "      <td>1.721056</td>\n",
       "    </tr>\n",
       "    <tr>\n",
       "      <th>55</th>\n",
       "      <td>55</td>\n",
       "      <td>153</td>\n",
       "      <td>191</td>\n",
       "      <td>4</td>\n",
       "      <td>Colt.graphml</td>\n",
       "      <td>9</td>\n",
       "      <td>3.333333</td>\n",
       "      <td>1.0</td>\n",
       "      <td>11.0</td>\n",
       "      <td>0.951677</td>\n",
       "    </tr>\n",
       "    <tr>\n",
       "      <th>122</th>\n",
       "      <td>122</td>\n",
       "      <td>149</td>\n",
       "      <td>193</td>\n",
       "      <td>3</td>\n",
       "      <td>GtsCe.graphml</td>\n",
       "      <td>4</td>\n",
       "      <td>12.500000</td>\n",
       "      <td>2.0</td>\n",
       "      <td>44.0</td>\n",
       "      <td>0.629108</td>\n",
       "    </tr>\n",
       "    <tr>\n",
       "      <th>64</th>\n",
       "      <td>64</td>\n",
       "      <td>113</td>\n",
       "      <td>183</td>\n",
       "      <td>5</td>\n",
       "      <td>Deltacom.graphml</td>\n",
       "      <td>5</td>\n",
       "      <td>11.800000</td>\n",
       "      <td>1.0</td>\n",
       "      <td>52.0</td>\n",
       "      <td>0.530902</td>\n",
       "    </tr>\n",
       "    <tr>\n",
       "      <th>222</th>\n",
       "      <td>222</td>\n",
       "      <td>145</td>\n",
       "      <td>194</td>\n",
       "      <td>2</td>\n",
       "      <td>TataNld.graphml</td>\n",
       "      <td>5</td>\n",
       "      <td>11.600000</td>\n",
       "      <td>1.0</td>\n",
       "      <td>51.0</td>\n",
       "      <td>0.496697</td>\n",
       "    </tr>\n",
       "    <tr>\n",
       "      <th>147</th>\n",
       "      <td>147</td>\n",
       "      <td>110</td>\n",
       "      <td>158</td>\n",
       "      <td>4</td>\n",
       "      <td>Interoute.graphml</td>\n",
       "      <td>6</td>\n",
       "      <td>8.000000</td>\n",
       "      <td>1.0</td>\n",
       "      <td>40.0</td>\n",
       "      <td>0.399808</td>\n",
       "    </tr>\n",
       "    <tr>\n",
       "      <th>233</th>\n",
       "      <td>233</td>\n",
       "      <td>158</td>\n",
       "      <td>189</td>\n",
       "      <td>5</td>\n",
       "      <td>UsCarrier.graphml</td>\n",
       "      <td>8</td>\n",
       "      <td>5.000000</td>\n",
       "      <td>1.0</td>\n",
       "      <td>22.0</td>\n",
       "      <td>0.349326</td>\n",
       "    </tr>\n",
       "    <tr>\n",
       "      <th>146</th>\n",
       "      <td>146</td>\n",
       "      <td>66</td>\n",
       "      <td>78</td>\n",
       "      <td>1</td>\n",
       "      <td>Internode.graphml</td>\n",
       "      <td>1</td>\n",
       "      <td>10.000000</td>\n",
       "      <td>10.0</td>\n",
       "      <td>10.0</td>\n",
       "      <td>0.346183</td>\n",
       "    </tr>\n",
       "    <tr>\n",
       "      <th>149</th>\n",
       "      <td>149</td>\n",
       "      <td>125</td>\n",
       "      <td>150</td>\n",
       "      <td>4</td>\n",
       "      <td>Ion.graphml</td>\n",
       "      <td>5</td>\n",
       "      <td>7.400000</td>\n",
       "      <td>2.0</td>\n",
       "      <td>23.0</td>\n",
       "      <td>0.315144</td>\n",
       "    </tr>\n",
       "    <tr>\n",
       "      <th>188</th>\n",
       "      <td>188</td>\n",
       "      <td>127</td>\n",
       "      <td>129</td>\n",
       "      <td>2</td>\n",
       "      <td>Pern.graphml</td>\n",
       "      <td>2</td>\n",
       "      <td>2.000000</td>\n",
       "      <td>2.0</td>\n",
       "      <td>2.0</td>\n",
       "      <td>0.311832</td>\n",
       "    </tr>\n",
       "    <tr>\n",
       "      <th>101</th>\n",
       "      <td>101</td>\n",
       "      <td>59</td>\n",
       "      <td>83</td>\n",
       "      <td>2</td>\n",
       "      <td>Garr201104.graphml</td>\n",
       "      <td>2</td>\n",
       "      <td>6.000000</td>\n",
       "      <td>1.0</td>\n",
       "      <td>11.0</td>\n",
       "      <td>0.292773</td>\n",
       "    </tr>\n",
       "    <tr>\n",
       "      <th>103</th>\n",
       "      <td>103</td>\n",
       "      <td>59</td>\n",
       "      <td>85</td>\n",
       "      <td>2</td>\n",
       "      <td>Garr201107.graphml</td>\n",
       "      <td>2</td>\n",
       "      <td>5.000000</td>\n",
       "      <td>1.0</td>\n",
       "      <td>9.0</td>\n",
       "      <td>0.254230</td>\n",
       "    </tr>\n",
       "    <tr>\n",
       "      <th>230</th>\n",
       "      <td>230</td>\n",
       "      <td>74</td>\n",
       "      <td>101</td>\n",
       "      <td>2</td>\n",
       "      <td>Uninett2010.graphml</td>\n",
       "      <td>2</td>\n",
       "      <td>13.000000</td>\n",
       "      <td>2.0</td>\n",
       "      <td>24.0</td>\n",
       "      <td>0.241214</td>\n",
       "    </tr>\n",
       "    <tr>\n",
       "      <th>91</th>\n",
       "      <td>91</td>\n",
       "      <td>54</td>\n",
       "      <td>71</td>\n",
       "      <td>1</td>\n",
       "      <td>Garr201003.graphml</td>\n",
       "      <td>1</td>\n",
       "      <td>9.000000</td>\n",
       "      <td>9.0</td>\n",
       "      <td>9.0</td>\n",
       "      <td>0.229907</td>\n",
       "    </tr>\n",
       "  </tbody>\n",
       "</table>\n",
       "</div>"
      ],
      "text/plain": [
       "     Unnamed: 0  NUM NODES  NUM EDGES  PEARL DEPTH           GRAPH NAME  \\\n",
       "158         158        754        899            3          Kdl.graphml   \n",
       "54           54        197        245            5     Cogentco.graphml   \n",
       "55           55        153        191            4         Colt.graphml   \n",
       "122         122        149        193            3        GtsCe.graphml   \n",
       "64           64        113        183            5     Deltacom.graphml   \n",
       "222         222        145        194            2      TataNld.graphml   \n",
       "147         147        110        158            4    Interoute.graphml   \n",
       "233         233        158        189            5    UsCarrier.graphml   \n",
       "146         146         66         78            1    Internode.graphml   \n",
       "149         149        125        150            4          Ion.graphml   \n",
       "188         188        127        129            2         Pern.graphml   \n",
       "101         101         59         83            2   Garr201104.graphml   \n",
       "103         103         59         85            2   Garr201107.graphml   \n",
       "230         230         74        101            2  Uninett2010.graphml   \n",
       "91           91         54         71            1   Garr201003.graphml   \n",
       "\n",
       "     NUM PEARLS  AVG PEARL SIZE  MIN PEARL SIZE  MAX PEARL SIZE       TIME  \n",
       "158          11       18.636364             1.0           185.0  29.196892  \n",
       "54            7        8.857143             2.0            46.0   1.721056  \n",
       "55            9        3.333333             1.0            11.0   0.951677  \n",
       "122           4       12.500000             2.0            44.0   0.629108  \n",
       "64            5       11.800000             1.0            52.0   0.530902  \n",
       "222           5       11.600000             1.0            51.0   0.496697  \n",
       "147           6        8.000000             1.0            40.0   0.399808  \n",
       "233           8        5.000000             1.0            22.0   0.349326  \n",
       "146           1       10.000000            10.0            10.0   0.346183  \n",
       "149           5        7.400000             2.0            23.0   0.315144  \n",
       "188           2        2.000000             2.0             2.0   0.311832  \n",
       "101           2        6.000000             1.0            11.0   0.292773  \n",
       "103           2        5.000000             1.0             9.0   0.254230  \n",
       "230           2       13.000000             2.0            24.0   0.241214  \n",
       "91            1        9.000000             9.0             9.0   0.229907  "
      ]
     },
     "execution_count": 2,
     "metadata": {},
     "output_type": "execute_result"
    }
   ],
   "source": [
    "graph_data = pd.read_csv('/mnt/d/Egyetem/Routing Cikk/fast-failover/pearl-algo/topology_zoo_statistics_with_pearl_sizes.csv')\n",
    "\n",
    "\n",
    "\n"
   ]
  },
  {
   "cell_type": "code",
   "execution_count": null,
   "metadata": {},
   "outputs": [
    {
     "name": "stdout",
     "output_type": "stream",
     "text": [
      "Aarnet.graphml\n",
      "Abilene.graphml\n",
      "Abvt.graphml\n",
      "Aconet.graphml\n",
      "Agis.graphml\n",
      "Ai3.graphml\n",
      "Airtel.graphml\n",
      "Amres.graphml\n",
      "Ans.graphml\n",
      "Arn.graphml\n",
      "Arnes.graphml\n",
      "Arpanet196912.graphml\n",
      "Arpanet19706.graphml\n",
      "Arpanet19719.graphml\n",
      "Arpanet19723.graphml\n",
      "Arpanet19728.graphml\n",
      "AsnetAm.graphml\n",
      "Atmnet.graphml\n",
      "AttMpls.graphml\n",
      "Azrena.graphml\n",
      "Basnet.graphml\n",
      "Bbnplanet.graphml\n",
      "Bellcanada.graphml\n",
      "Bellsouth.graphml\n",
      "Belnet2003.graphml\n",
      "Belnet2004.graphml\n",
      "Belnet2005.graphml\n",
      "Belnet2006.graphml\n",
      "Belnet2007.graphml\n",
      "Belnet2008.graphml\n",
      "Belnet2009.graphml\n",
      "Belnet2010.graphml\n",
      "BeyondTheNetwork.graphml\n",
      "Bics.graphml\n",
      "Biznet.graphml\n",
      "Bren.graphml\n",
      "BsonetEurope.graphml\n",
      "BtAsiaPac.graphml\n",
      "BtEurope.graphml\n",
      "BtNorthAmerica.graphml\n",
      "Canerie.graphml\n",
      "Carnet.graphml\n",
      "Cernet.graphml\n",
      "Cesnet1993.graphml\n",
      "Cesnet1997.graphml\n",
      "Cesnet1999.graphml\n",
      "Cesnet2001.graphml\n",
      "Cesnet200304.graphml\n",
      "Cesnet200511.graphml\n",
      "Cesnet200603.graphml\n",
      "Cesnet200706.graphml\n",
      "Cesnet201006.graphml\n",
      "Chinanet.graphml\n",
      "Claranet.graphml\n",
      "Cogentco.graphml\n",
      "Colt.graphml\n",
      "Columbus.graphml\n",
      "Compuserve.graphml\n",
      "CrlNetworkServices.graphml\n",
      "Cudi.graphml\n",
      "Cwix.graphml\n",
      "Cynet.graphml\n",
      "Darkstrand.graphml\n",
      "Dataxchange.graphml\n",
      "Deltacom.graphml\n",
      "Dfn.graphml\n",
      "Digex.graphml\n",
      "Easynet.graphml\n",
      "Eenet.graphml\n",
      "EliBackbone.graphml\n",
      "Epoch.graphml\n",
      "Ernet.graphml\n",
      "Esnet.graphml\n",
      "Evolink.graphml\n",
      "Fatman.graphml\n",
      "Fccn.graphml\n",
      "Forthnet.graphml\n",
      "Funet.graphml\n",
      "Gambia.graphml\n",
      "Garr199901.graphml\n",
      "Garr199904.graphml\n",
      "Garr199905.graphml\n",
      "Garr200109.graphml\n",
      "Garr200112.graphml\n",
      "Garr200212.graphml\n",
      "Garr200404.graphml\n",
      "Garr200902.graphml\n",
      "Garr200908.graphml\n",
      "Garr200909.graphml\n",
      "Garr200912.graphml\n",
      "Garr201001.graphml\n",
      "Garr201003.graphml\n",
      "Garr201004.graphml\n",
      "Garr201005.graphml\n",
      "Garr201007.graphml\n",
      "Garr201008.graphml\n",
      "Garr201010.graphml\n",
      "Garr201012.graphml\n",
      "Garr201101.graphml\n",
      "Garr201102.graphml\n",
      "Garr201103.graphml\n",
      "Garr201104.graphml\n",
      "Garr201105.graphml\n",
      "Garr201107.graphml\n",
      "Garr201108.graphml\n",
      "Garr201109.graphml\n",
      "Garr201110.graphml\n",
      "Garr201111.graphml\n",
      "Garr201112.graphml\n",
      "Garr201201.graphml\n",
      "Gblnet.graphml\n",
      "Geant2001.graphml\n",
      "Geant2009.graphml\n",
      "Geant2010.graphml\n",
      "Geant2012.graphml\n",
      "Getnet.graphml\n",
      "Globalcenter.graphml\n",
      "Globenet.graphml\n",
      "Goodnet.graphml\n",
      "Grena.graphml\n",
      "Gridnet.graphml\n",
      "Grnet.graphml\n",
      "GtsCe.graphml\n",
      "GtsCzechRepublic.graphml\n",
      "GtsHungary.graphml\n",
      "GtsPoland.graphml\n",
      "GtsRomania.graphml\n",
      "GtsSlovakia.graphml\n",
      "Harnet.graphml\n",
      "Heanet.graphml\n",
      "HiberniaCanada.graphml\n",
      "HiberniaGlobal.graphml\n",
      "HiberniaIreland.graphml\n",
      "HiberniaNireland.graphml\n",
      "HiberniaUk.graphml\n",
      "HiberniaUs.graphml\n",
      "Highwinds.graphml\n",
      "HostwayInternational.graphml\n",
      "HurricaneElectric.graphml\n",
      "Ibm.graphml\n",
      "Iij.graphml\n",
      "Iinet.graphml\n",
      "Ilan.graphml\n",
      "Integra.graphml\n",
      "Intellifiber.graphml\n",
      "Internetmci.graphml\n",
      "Internode.graphml\n",
      "Interoute.graphml\n",
      "Intranetwork.graphml\n",
      "Ion.graphml\n",
      "IowaStatewideFiberMap.graphml\n",
      "Iris.graphml\n",
      "Istar.graphml\n",
      "Itnet.graphml\n",
      "Janetbackbone.graphml\n",
      "Janetlense.graphml\n",
      "Jgn2Plus.graphml\n",
      "Karen.graphml\n",
      "Kdl.graphml\n",
      "KentmanFeb2008.graphml\n",
      "KentmanJan2011.graphml\n",
      "KentmanJul2005.graphml\n",
      "Kreonet.graphml\n",
      "LambdaNet.graphml\n",
      "Latnet.graphml\n",
      "Layer42.graphml\n",
      "Litnet.graphml\n",
      "Marnet.graphml\n",
      "Marwan.graphml\n",
      "Missouri.graphml\n",
      "Mren.graphml\n",
      "Myren.graphml\n",
      "Napnet.graphml\n",
      "Navigata.graphml\n",
      "Netrail.graphml\n",
      "NetworkUsa.graphml\n",
      "Nextgen.graphml\n",
      "Niif.graphml\n",
      "Noel.graphml\n",
      "Nordu1989.graphml\n",
      "Nordu1997.graphml\n",
      "Nordu2005.graphml\n",
      "Nsfnet.graphml\n",
      "Oxford.graphml\n",
      "Pacificwave.graphml\n",
      "Packetexchange.graphml\n",
      "Palmetto.graphml\n",
      "Peer1.graphml\n",
      "Pern.graphml\n",
      "PionierL1.graphml\n",
      "PionierL3.graphml\n",
      "Psinet.graphml\n",
      "Quest.graphml\n",
      "RedBestel.graphml\n",
      "Rediris.graphml\n",
      "Renam.graphml\n",
      "Renater1999.graphml\n",
      "Renater2001.graphml\n",
      "Renater2004.graphml\n",
      "Renater2006.graphml\n",
      "Renater2008.graphml\n",
      "Renater2010.graphml\n",
      "Restena.graphml\n",
      "Reuna.graphml\n",
      "Rhnet.graphml\n",
      "Rnp.graphml\n",
      "Roedunet.graphml\n",
      "RoedunetFibre.graphml\n",
      "Sago.graphml\n",
      "Sanet.graphml\n",
      "Sanren.graphml\n",
      "Savvis.graphml\n",
      "Shentel.graphml\n",
      "Sinet.graphml\n",
      "Singaren.graphml\n",
      "Spiralight.graphml\n",
      "Sprint.graphml\n",
      "Sunet.graphml\n",
      "Surfnet.graphml\n",
      "Switch.graphml\n",
      "SwitchL3.graphml\n",
      "Syringa.graphml\n",
      "TataNld.graphml\n",
      "Telecomserbia.graphml\n",
      "Tinet.graphml\n",
      "TLex.graphml\n",
      "Twaren.graphml\n",
      "Ulaknet.graphml\n",
      "UniC.graphml\n",
      "Uninet.graphml\n",
      "Uninett2010.graphml\n",
      "Uninett2011.graphml\n",
      "Uran.graphml\n",
      "UsCarrier.graphml\n",
      "Uunet.graphml\n",
      "Vinaren.graphml\n",
      "VisionNet.graphml\n",
      "VtlWavenet2008.graphml\n",
      "VtlWavenet2011.graphml\n",
      "WideJpn.graphml\n",
      "Xeex.graphml\n",
      "Xspedius.graphml\n",
      "York.graphml\n"
     ]
    }
   ],
   "source": [
    "for row in graph_data['GRAPH NAME']:\n",
    "    graph_data['GRAPH NAME'][row]"
   ]
  },
  {
   "cell_type": "code",
   "execution_count": 3,
   "metadata": {},
   "outputs": [],
   "source": [
    "subdivision_data = pd.read_csv('/mnt/d/Egyetem/Routing Cikk/fast-failover/pearl-algo/topology_zoo_statistics_subdivision_stats.csv')\n",
    "#subdivision_data\n"
   ]
  },
  {
   "cell_type": "code",
   "execution_count": 4,
   "metadata": {},
   "outputs": [],
   "source": [
    "#graph_data = pd.concat([graph_data, this_data], axis=0)"
   ]
  },
  {
   "cell_type": "code",
   "execution_count": 5,
   "metadata": {},
   "outputs": [
    {
     "data": {
      "text/plain": [
       "56"
      ]
     },
     "execution_count": 5,
     "metadata": {},
     "output_type": "execute_result"
    }
   ],
   "source": [
    "subdivision_graph_num = subdivision_data[subdivision_data['NUM PEARLS'] == 1].shape[0]\n",
    "subdivision_graph_num\n"
   ]
  },
  {
   "cell_type": "code",
   "execution_count": 6,
   "metadata": {},
   "outputs": [
    {
     "data": {
      "image/png": "[encoded data removed]",
      "text/plain": [
       "<Figure size 1000x600 with 1 Axes>"
      ]
     },
     "metadata": {},
     "output_type": "display_data"
    }
   ],
   "source": [
    "plot_columns_by_an_other_column(graph_data, 'NUM NODES', 'TIME', output_file='topology_zoo_data_running_times_plot.tex')"
   ]
  },
  {
   "cell_type": "code",
   "execution_count": 7,
   "metadata": {},
   "outputs": [],
   "source": [
    "from pearl_routing import pearl_depth_of_graph, read_in_graph\n",
    "from plot import draw_graph_with_labels"
   ]
  },
  {
   "cell_type": "code",
   "execution_count": 8,
   "metadata": {},
   "outputs": [],
   "source": [
    "file_path='/mnt/d/Egyetem/Routing Cikk/SyPeR/topology-zoo-original/Renam.graphml'\n",
    "#picture_path = '/mnt/d/Egyetem/Routing Cikk/fast-failover/pearl-algo/Aarnet_colored_by_pearls.tex'"
   ]
  },
  {
   "cell_type": "code",
   "execution_count": 9,
   "metadata": {},
   "outputs": [
    {
     "name": "stdout",
     "output_type": "stream",
     "text": [
      "['0', '1', '2', '3', '4']\n"
     ]
    }
   ],
   "source": [
    "G, is_list = read_in_graph(file_path)\n",
    "print(G.nodes)"
   ]
  },
  {
   "cell_type": "code",
   "execution_count": 10,
   "metadata": {},
   "outputs": [],
   "source": [
    "from pearl_routing import *\n",
    "simple_graph = G"
   ]
  },
  {
   "cell_type": "code",
   "execution_count": 11,
   "metadata": {},
   "outputs": [],
   "source": [
    "#read in graph \n",
    "Graph = nx.MultiGraph(simple_graph)\n",
    "Graph.graph['root'] = random.choice(list(Graph.nodes))"
   ]
  },
  {
   "cell_type": "code",
   "execution_count": 12,
   "metadata": {},
   "outputs": [
    {
     "data": {
      "text/plain": [
       "MultiEdgeView([('0', '1', 0), ('0', '2', 0), ('0', '3', 0), ('0', '4', 0)])"
      ]
     },
     "execution_count": 12,
     "metadata": {},
     "output_type": "execute_result"
    }
   ],
   "source": [
    "Graph.edges"
   ]
  },
  {
   "cell_type": "code",
   "execution_count": 13,
   "metadata": {},
   "outputs": [],
   "source": [
    "graph = Graph"
   ]
  },
  {
   "cell_type": "code",
   "execution_count": 14,
   "metadata": {},
   "outputs": [
    {
     "data": {
      "image/png": "[encoded data removed]",
      "text/plain": [
       "<Figure size 640x480 with 1 Axes>"
      ]
     },
     "metadata": {},
     "output_type": "display_data"
    }
   ],
   "source": [
    "#draw_multigraph_with_labels(graph, picture_path)\n",
    "draw_multigraph_with_labels(graph)"
   ]
  },
  {
   "cell_type": "code",
   "execution_count": 15,
   "metadata": {},
   "outputs": [],
   "source": [
    "gmlGraph = nx.read_gml('/mnt/d/Egyetem/Routing Cikk/fast-failover/pearl-algo/graph_sets/200_nodes_by_Arash.gml', label = None)"
   ]
  },
  {
   "cell_type": "code",
   "execution_count": 16,
   "metadata": {},
   "outputs": [
    {
     "data": {
      "text/plain": [
       "NodeView((0, 1, 10, 100, 101, 102, 103, 104, 105, 106, 107, 108, 109, 11, 110, 111, 112, 113, 114, 115, 116, 117, 118, 119, 12, 120, 121, 122, 123, 124, 125, 126, 127, 128, 129, 13, 130, 131, 132, 133, 134, 135, 136, 137, 138, 139, 14, 140, 141, 142, 143, 144, 145, 146, 147, 148, 149, 15, 150, 151, 152, 153, 154, 155, 156, 157, 158, 159, 16, 160, 161, 162, 163, 164, 165, 166, 167, 168, 169, 17, 170, 171, 172, 173, 174, 175, 176, 177, 178, 179, 18, 180, 181, 182, 183, 184, 185, 186, 187, 188, 189, 19, 190, 191, 192, 193, 194, 195, 196, 197, 198, 199, 2, 20, 21, 22, 23, 24, 25, 26, 27, 28, 29, 3, 30, 31, 32, 33, 34, 35, 36, 37, 38, 39, 4, 40, 41, 42, 43, 44, 45, 46, 47, 48, 49, 5, 50, 51, 52, 53, 54, 55, 56, 57, 58, 59, 6, 60, 61, 62, 63, 64, 65, 66, 67, 68, 69, 7, 70, 71, 72, 73, 74, 75, 76, 77, 78, 79, 8, 80, 81, 82, 83, 84, 85, 86, 87, 88, 89, 9, 90, 91, 92, 93, 94, 95, 96, 97, 98, 99))"
      ]
     },
     "execution_count": 16,
     "metadata": {},
     "output_type": "execute_result"
    }
   ],
   "source": [
    "gmlGraph.nodes"
   ]
  },
  {
   "cell_type": "code",
   "execution_count": 17,
   "metadata": {},
   "outputs": [
    {
     "data": {
      "text/plain": [
       "<networkx.classes.graph.Graph at 0x7f983eb383d0>"
      ]
     },
     "execution_count": 17,
     "metadata": {},
     "output_type": "execute_result"
    }
   ],
   "source": [
    "graph = nx.read_graphml(path = '/mnt/d/Egyetem/Routing Cikk/fast-failover/pearl-algo/graph_sets/topology-zoo-original/Kreonet.graphml')\n",
    "graph"
   ]
  },
  {
   "cell_type": "code",
   "execution_count": 18,
   "metadata": {},
   "outputs": [
    {
     "data": {
      "text/plain": [
       "{'R': {'f': {'traversing': 0}}}"
      ]
     },
     "execution_count": 18,
     "metadata": {},
     "output_type": "execute_result"
    }
   ],
   "source": [
    "node_dict = {}\n",
    "R = {}\n",
    "f = {}\n",
    "f['traversing'] = 0\n",
    "\n",
    "R['f'] = f\n",
    "\n",
    "node_dict['R'] = R\n",
    "\n",
    "node_dict"
   ]
  },
  {
   "cell_type": "code",
   "execution_count": 19,
   "metadata": {},
   "outputs": [],
   "source": [
    "R = {}\n",
    "f2 = {}\n",
    "f2['getting_out'] = 'we are going'\n",
    "\n",
    "R['f2'] = f2\n",
    "\n",
    "if 'R' not in node_dict.keys():\n",
    "    node_dict['R'] = R\n",
    "else: \n",
    "    node_dict['R']['getting_out'] = 'we are going'"
   ]
  },
  {
   "cell_type": "code",
   "execution_count": 20,
   "metadata": {},
   "outputs": [
    {
     "data": {
      "text/plain": [
       "6"
      ]
     },
     "execution_count": 20,
     "metadata": {},
     "output_type": "execute_result"
    }
   ],
   "source": [
    "G = nx.MultiGraph([(1,3,0)])\n",
    "G.add_edge(0,0)\n",
    "G.add_edge(0,0)\n",
    "G.add_edge(0,0)\n",
    "G.degree(0)\n"
   ]
  }
 ],
 "metadata": {
  "kernelspec": {
   "display_name": "SyPeR-katyvasz",
   "language": "python",
   "name": "python3"
  },
  "language_info": {
   "codemirror_mode": {
    "name": "ipython",
    "version": 3
   },
   "file_extension": ".py",
   "mimetype": "text/x-python",
   "name": "python",
   "nbconvert_exporter": "python",
   "pygments_lexer": "ipython3",
   "version": "3.8.19"
  }
 },
 "nbformat": 4,
 "nbformat_minor": 2
}
