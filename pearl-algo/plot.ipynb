{
 "cells": [
  {
   "cell_type": "code",
   "execution_count": 1,
   "metadata": {},
   "outputs": [],
   "source": [
    "import networkx as nx\n",
    "import matplotlib as plt\n",
    "import tikzplotlib\n",
    "import pandas as pd\n",
    "\n",
    "from plot import *\n"
   ]
  },
  {
   "cell_type": "code",
   "execution_count": 2,
   "metadata": {},
   "outputs": [
    {
     "data": {
      "text/html": [
       "<div>\n",
       "<style scoped>\n",
       "    .dataframe tbody tr th:only-of-type {\n",
       "        vertical-align: middle;\n",
       "    }\n",
       "\n",
       "    .dataframe tbody tr th {\n",
       "        vertical-align: top;\n",
       "    }\n",
       "\n",
       "    .dataframe thead th {\n",
       "        text-align: right;\n",
       "    }\n",
       "</style>\n",
       "<table border=\"1\" class=\"dataframe\">\n",
       "  <thead>\n",
       "    <tr style=\"text-align: right;\">\n",
       "      <th></th>\n",
       "      <th>Unnamed: 0</th>\n",
       "      <th>NUM NODES</th>\n",
       "      <th>NUM EDGES</th>\n",
       "      <th>PEARL DEPTH</th>\n",
       "      <th>GRAPH NAME</th>\n",
       "      <th>NUM PEARLS</th>\n",
       "    </tr>\n",
       "  </thead>\n",
       "  <tbody>\n",
       "    <tr>\n",
       "      <th>0</th>\n",
       "      <td>0</td>\n",
       "      <td>19</td>\n",
       "      <td>24</td>\n",
       "      <td>3</td>\n",
       "      <td>Aarnet.graphml</td>\n",
       "      <td>2</td>\n",
       "    </tr>\n",
       "    <tr>\n",
       "      <th>1</th>\n",
       "      <td>1</td>\n",
       "      <td>11</td>\n",
       "      <td>14</td>\n",
       "      <td>3</td>\n",
       "      <td>Abilene.graphml</td>\n",
       "      <td>2</td>\n",
       "    </tr>\n",
       "    <tr>\n",
       "      <th>2</th>\n",
       "      <td>2</td>\n",
       "      <td>23</td>\n",
       "      <td>31</td>\n",
       "      <td>2</td>\n",
       "      <td>Abvt.graphml</td>\n",
       "      <td>1</td>\n",
       "    </tr>\n",
       "    <tr>\n",
       "      <th>3</th>\n",
       "      <td>3</td>\n",
       "      <td>23</td>\n",
       "      <td>31</td>\n",
       "      <td>2</td>\n",
       "      <td>Aconet.graphml</td>\n",
       "      <td>2</td>\n",
       "    </tr>\n",
       "    <tr>\n",
       "      <th>4</th>\n",
       "      <td>4</td>\n",
       "      <td>25</td>\n",
       "      <td>30</td>\n",
       "      <td>1</td>\n",
       "      <td>Agis.graphml</td>\n",
       "      <td>0</td>\n",
       "    </tr>\n",
       "    <tr>\n",
       "      <th>...</th>\n",
       "      <td>...</td>\n",
       "      <td>...</td>\n",
       "      <td>...</td>\n",
       "      <td>...</td>\n",
       "      <td>...</td>\n",
       "      <td>...</td>\n",
       "    </tr>\n",
       "    <tr>\n",
       "      <th>238</th>\n",
       "      <td>238</td>\n",
       "      <td>92</td>\n",
       "      <td>96</td>\n",
       "      <td>3</td>\n",
       "      <td>VtlWavenet2011.graphml</td>\n",
       "      <td>2</td>\n",
       "    </tr>\n",
       "    <tr>\n",
       "      <th>239</th>\n",
       "      <td>239</td>\n",
       "      <td>30</td>\n",
       "      <td>33</td>\n",
       "      <td>1</td>\n",
       "      <td>WideJpn.graphml</td>\n",
       "      <td>0</td>\n",
       "    </tr>\n",
       "    <tr>\n",
       "      <th>240</th>\n",
       "      <td>240</td>\n",
       "      <td>24</td>\n",
       "      <td>34</td>\n",
       "      <td>2</td>\n",
       "      <td>Xeex.graphml</td>\n",
       "      <td>1</td>\n",
       "    </tr>\n",
       "    <tr>\n",
       "      <th>241</th>\n",
       "      <td>241</td>\n",
       "      <td>34</td>\n",
       "      <td>49</td>\n",
       "      <td>1</td>\n",
       "      <td>Xspedius.graphml</td>\n",
       "      <td>0</td>\n",
       "    </tr>\n",
       "    <tr>\n",
       "      <th>242</th>\n",
       "      <td>242</td>\n",
       "      <td>23</td>\n",
       "      <td>24</td>\n",
       "      <td>1</td>\n",
       "      <td>York.graphml</td>\n",
       "      <td>0</td>\n",
       "    </tr>\n",
       "  </tbody>\n",
       "</table>\n",
       "<p>243 rows × 6 columns</p>\n",
       "</div>"
      ],
      "text/plain": [
       "     Unnamed: 0  NUM NODES  NUM EDGES  PEARL DEPTH              GRAPH NAME  \\\n",
       "0             0         19         24            3          Aarnet.graphml   \n",
       "1             1         11         14            3         Abilene.graphml   \n",
       "2             2         23         31            2            Abvt.graphml   \n",
       "3             3         23         31            2          Aconet.graphml   \n",
       "4             4         25         30            1            Agis.graphml   \n",
       "..          ...        ...        ...          ...                     ...   \n",
       "238         238         92         96            3  VtlWavenet2011.graphml   \n",
       "239         239         30         33            1         WideJpn.graphml   \n",
       "240         240         24         34            2            Xeex.graphml   \n",
       "241         241         34         49            1        Xspedius.graphml   \n",
       "242         242         23         24            1            York.graphml   \n",
       "\n",
       "     NUM PEARLS  \n",
       "0             2  \n",
       "1             2  \n",
       "2             1  \n",
       "3             2  \n",
       "4             0  \n",
       "..          ...  \n",
       "238           2  \n",
       "239           0  \n",
       "240           1  \n",
       "241           0  \n",
       "242           0  \n",
       "\n",
       "[243 rows x 6 columns]"
      ]
     },
     "execution_count": 2,
     "metadata": {},
     "output_type": "execute_result"
    }
   ],
   "source": [
    "graph_data = pd.read_csv('/mnt/d/Egyetem/Routing Cikk/fast-failover/pearl-algo/topology_zoo_statistics.csv')\n",
    "#graph_data.sort_values(by = 'PEARL DEPTH', axis=0, ascending=False)\n",
    "graph_data\n"
   ]
  },
  {
   "cell_type": "code",
   "execution_count": 3,
   "metadata": {},
   "outputs": [
    {
     "data": {
      "image/png": "[encoded data removed]",
      "text/plain": [
       "<Figure size 1000x600 with 1 Axes>"
      ]
     },
     "metadata": {},
     "output_type": "display_data"
    }
   ],
   "source": [
    "plot_columns_by_index(graph_data, 'NUM NODES', 'NUM EDGES', 'PEARL DEPTH', 'NUM PEARLS', output_file='topology_zoo_pearl_data.tex')"
   ]
  },
  {
   "cell_type": "code",
   "execution_count": 4,
   "metadata": {},
   "outputs": [],
   "source": [
    "from pearl_routing import pearl_depth_of_graph, read_in_graph\n",
    "from plot import draw_graph_with_labels"
   ]
  },
  {
   "cell_type": "code",
   "execution_count": 9,
   "metadata": {},
   "outputs": [],
   "source": [
    "file_path='/mnt/d/Egyetem/Routing Cikk/SyPeR/topology-zoo-original/Aarnet.graphml'\n",
    "picture_path = '/mnt/d/Egyetem/Routing Cikk/fast-failover/pearl-algo/Aarnet_colored_by_pearls.tex'"
   ]
  },
  {
   "cell_type": "code",
   "execution_count": 10,
   "metadata": {},
   "outputs": [
    {
     "name": "stdout",
     "output_type": "stream",
     "text": [
      "['0', '1', '2', '3', '4', '5', '6', '7', '8', '9', '10', '11', '12', '13', '14', '15', '16', '17', '18']\n"
     ]
    }
   ],
   "source": [
    "G, is_list = read_in_graph(file_path)\n",
    "print(G.nodes)"
   ]
  },
  {
   "cell_type": "code",
   "execution_count": 11,
   "metadata": {},
   "outputs": [],
   "source": [
    "from pearl_routing import *\n",
    "simple_graph = G"
   ]
  },
  {
   "cell_type": "code",
   "execution_count": 13,
   "metadata": {},
   "outputs": [],
   "source": [
    "#read in graph \n",
    "Graph = nx.MultiGraph(simple_graph)\n",
    "Graph.graph['root'] = random.choice(list(Graph.nodes))\n",
    "    \n",
    "\n",
    "\n",
    "\n",
    "#discard degree 2 nodes, so found pearls are not littered by them\n",
    "trimmed_graph = Graph.copy()\n",
    "trimmed_graph = contract_paths_keep_root(trimmed_graph)\n",
    "\n",
    "#dissect into 2-connected components\n",
    "comps = cut_cutting_edges(trimmed_graph)\n",
    "#discard single nodes\n",
    "proper_comps = [comp for comp in comps if len(comp)>1]\n",
    "if proper_comps == []:             #if every 2 connected component is a single node, then it is a tree\n",
    "    print(0,0)\n",
    "depth_list = []\n",
    "\n",
    "#measure each component\n",
    "for comp in proper_comps:\n",
    "#get the graph structure we need\n",
    "    graph = trimmed_graph.subgraph(comp).copy()\n",
    "    #discard degree 2 nodes, so found pearls are not littered by them\n",
    "    graph = contract_paths_keep_root(graph)\n",
    "    #if the original root is not in the component, then it is the closest one to the root\n",
    "    if Graph.graph['root'] not in comp:\n",
    "        #we need to find the unique closest node to the root\n",
    "            \n",
    "        #print('Graph nodes: ', Graph.nodes)\n",
    "        #print(len(nx.shortest_path(Graph, source='7', target='0')))\n",
    "        lista = list(comp)\n",
    "        lista.sort(key= lambda node: len(nx.shortest_path(Graph, source=str(Graph.graph['root']), target=str(node))))\n",
    "        closest_node = lista[0]\n",
    "        graph.graph['root'] = closest_node\n",
    "\n",
    "    #Check those pearls\n",
    "    depth, num_pearls, graph_with_pearl_data, list_of_all_pearls = partition_2_conn_into_pearls(graph) \n",
    "    depth_list.append(depth)\n"
   ]
  },
  {
   "cell_type": "code",
   "execution_count": null,
   "metadata": {},
   "outputs": [],
   "source": [
    "print(depth_list)"
   ]
  },
  {
   "cell_type": "code",
   "execution_count": 14,
   "metadata": {},
   "outputs": [
    {
     "name": "stdout",
     "output_type": "stream",
     "text": [
      "('0', '3') 0 {'LinkLabel': '< 10 Gbps', 'key': 0}\n",
      "('0', '3') 1 {}\n",
      "('0', '15') 0 {}\n",
      "('16', '3') 0 {'LinkLabel': '< 10 Gbps', 'key': 0}\n",
      "('13', '14') 0 {'id': 'e3', 'key': 0}\n",
      "('13', '14') 1 {}\n",
      "('13', '14') 2 {}\n",
      "('13', '15') 0 {'LinkLabel': '< 10 Gbps', 'key': 0}\n",
      "('14', '16') 0 {'LinkLabel': '< 2.5 Gbps', 'key': 0}\n",
      "('15', '16') 0 {'LinkLabel': '< 10 Gbps', 'key': 0}\n",
      "('15', '16') 1 {}\n"
     ]
    }
   ],
   "source": [
    "for u, v, data, key in graph.edges(data=True, keys=True):\n",
    "    # Determine an offset for parallel edges\n",
    "    edge = (min(u, v), max(u, v))\n",
    "    print(edge, data, key)"
   ]
  },
  {
   "cell_type": "code",
   "execution_count": 15,
   "metadata": {},
   "outputs": [
    {
     "data": {
      "text/plain": [
       "MultiDegreeView({'3': 3})"
      ]
     },
     "execution_count": 15,
     "metadata": {},
     "output_type": "execute_result"
    }
   ],
   "source": [
    "nx.degree(graph, ['3'])"
   ]
  },
  {
   "cell_type": "code",
   "execution_count": 16,
   "metadata": {},
   "outputs": [
    {
     "name": "stdout",
     "output_type": "stream",
     "text": [
      "MultiGraph saved to /mnt/d/Egyetem/Routing Cikk/fast-failover/pearl-algo/Aarnet_colored_by_pearls.tex\n"
     ]
    },
    {
     "data": {
      "image/png": "[encoded data removed]",
      "text/plain": [
       "<Figure size 640x480 with 1 Axes>"
      ]
     },
     "metadata": {},
     "output_type": "display_data"
    }
   ],
   "source": [
    "draw_multigraph_with_labels(graph, picture_path)"
   ]
  },
  {
   "cell_type": "code",
   "execution_count": 17,
   "metadata": {},
   "outputs": [],
   "source": [
    "gmlGraph = nx.read_gml('/mnt/d/Egyetem/Routing Cikk/fast-failover/pearl-algo/graph_sets/200_nodes_by_Arash.gml', label = None)"
   ]
  },
  {
   "cell_type": "code",
   "execution_count": 18,
   "metadata": {},
   "outputs": [
    {
     "data": {
      "text/plain": [
       "NodeView((0, 1, 10, 100, 101, 102, 103, 104, 105, 106, 107, 108, 109, 11, 110, 111, 112, 113, 114, 115, 116, 117, 118, 119, 12, 120, 121, 122, 123, 124, 125, 126, 127, 128, 129, 13, 130, 131, 132, 133, 134, 135, 136, 137, 138, 139, 14, 140, 141, 142, 143, 144, 145, 146, 147, 148, 149, 15, 150, 151, 152, 153, 154, 155, 156, 157, 158, 159, 16, 160, 161, 162, 163, 164, 165, 166, 167, 168, 169, 17, 170, 171, 172, 173, 174, 175, 176, 177, 178, 179, 18, 180, 181, 182, 183, 184, 185, 186, 187, 188, 189, 19, 190, 191, 192, 193, 194, 195, 196, 197, 198, 199, 2, 20, 21, 22, 23, 24, 25, 26, 27, 28, 29, 3, 30, 31, 32, 33, 34, 35, 36, 37, 38, 39, 4, 40, 41, 42, 43, 44, 45, 46, 47, 48, 49, 5, 50, 51, 52, 53, 54, 55, 56, 57, 58, 59, 6, 60, 61, 62, 63, 64, 65, 66, 67, 68, 69, 7, 70, 71, 72, 73, 74, 75, 76, 77, 78, 79, 8, 80, 81, 82, 83, 84, 85, 86, 87, 88, 89, 9, 90, 91, 92, 93, 94, 95, 96, 97, 98, 99))"
      ]
     },
     "execution_count": 18,
     "metadata": {},
     "output_type": "execute_result"
    }
   ],
   "source": [
    "gmlGraph.nodes"
   ]
  },
  {
   "cell_type": "code",
   "execution_count": 19,
   "metadata": {},
   "outputs": [
    {
     "data": {
      "text/plain": [
       "<networkx.classes.graph.Graph at 0x7f5318c18b80>"
      ]
     },
     "execution_count": 19,
     "metadata": {},
     "output_type": "execute_result"
    }
   ],
   "source": [
    "graph = nx.read_graphml(path = '/mnt/d/Egyetem/Routing Cikk/fast-failover/pearl-algo/graph_sets/topology-zoo-original/Kreonet.graphml')\n",
    "graph"
   ]
  }
 ],
 "metadata": {
  "kernelspec": {
   "display_name": "SyPeR-katyvasz",
   "language": "python",
   "name": "python3"
  },
  "language_info": {
   "codemirror_mode": {
    "name": "ipython",
    "version": 3
   },
   "file_extension": ".py",
   "mimetype": "text/x-python",
   "name": "python",
   "nbconvert_exporter": "python",
   "pygments_lexer": "ipython3",
   "version": "3.8.19"
  }
 },
 "nbformat": 4,
 "nbformat_minor": 2
}
