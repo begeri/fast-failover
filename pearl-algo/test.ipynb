{
 "cells": [
  {
   "cell_type": "code",
   "execution_count": 1,
   "metadata": {},
   "outputs": [],
   "source": [
    "import sys\n",
    "sys.path.append('/mnt/d/Egyetem/Routing Cikk/fast-failover')\n",
    "sys.path.append('/mnt/d/Egyetem/Routing Cikk/fast-failover/pearl_algo')\n",
    "\n",
    "import networkx as nx\n",
    "import argparse\n",
    "\n",
    "from graph_analise import find_pearls, neighbor_of_subgraph\n",
    "from graph_analise import cut_cutting_edges, is_3_connected, read_in_graph\n",
    "from graph_analise import *\n",
    "\n",
    "from util import GreedyArborescenceDecomposition\n",
    "from util import contract_paths_keep_root, leaf_pearls, totally_contract_pearl\n",
    "from util import fixing_pearl_parent_pointers, separate_by_cutting_nodes\n",
    "from util import create_big_2_conn_from_Ion, create_simple_2_pearl_multigraph\n",
    "from util import reset_arb_attribute, get_arborescence_list\n",
    "\n",
    "from heapq import heappush, heappop\n",
    "import random\n",
    "\n",
    "import networkx as nx\n",
    "import pandas as pd\n",
    "from pearl_routing import *"
   ]
  },
  {
   "cell_type": "code",
   "execution_count": 2,
   "metadata": {},
   "outputs": [],
   "source": [
    "pearl_list = pearls_of_a_graph('/mnt/d/Egyetem/Routing Cikk/fast-failover/pearl-algo/graph_sets/topology-zoo-original/Colt.graphml')"
   ]
  },
  {
   "cell_type": "code",
   "execution_count": 3,
   "metadata": {},
   "outputs": [
    {
     "name": "stdout",
     "output_type": "stream",
     "text": [
      "0 5\n",
      "1 2\n",
      "2 2\n",
      "3 3\n",
      "4 11\n",
      "0 2\n",
      "0 2\n",
      "0 2\n"
     ]
    }
   ],
   "source": [
    "for comp_list in pearl_list:\n",
    "    for level in comp_list:\n",
    "        for pearl in level:\n",
    "            print(pearl['id'], len(pearl['nodes']))\n",
    "            if pearl['id'] == 4:\n",
    "                p = pearl\n"
   ]
  },
  {
   "cell_type": "code",
   "execution_count": 4,
   "metadata": {},
   "outputs": [
    {
     "name": "stdout",
     "output_type": "stream",
     "text": [
      "True\n"
     ]
    }
   ],
   "source": [
    "graph =  p['graph'].copy()\n",
    "if p['parent_pearl'] != 'this is the root':\n",
    "    graph.add_edge(p['boundary'][0], p['boundary'][-1])\n",
    "print(is_3_connected(graph))"
   ]
  },
  {
   "cell_type": "code",
   "execution_count": 5,
   "metadata": {},
   "outputs": [
    {
     "name": "stdout",
     "output_type": "stream",
     "text": [
      "MultiGraph with 11 nodes and 18 edges\n"
     ]
    }
   ],
   "source": [
    "print(graph)"
   ]
  },
  {
   "cell_type": "code",
   "execution_count": 6,
   "metadata": {},
   "outputs": [],
   "source": [
    "nx.write_graphml(graph, '/mnt/d/Egyetem/Routing Cikk/fast-failover/pearl-algo/graph_sets/example_graphs/Colt_pearl.graphml')"
   ]
  },
  {
   "cell_type": "code",
   "execution_count": 19,
   "metadata": {},
   "outputs": [
    {
     "data": {
      "text/plain": [
       "1"
      ]
     },
     "execution_count": 19,
     "metadata": {},
     "output_type": "execute_result"
    }
   ],
   "source": [
    "g = nx.MultiGraph()\n",
    "g.add_nodes_from([0,1,2])\n",
    "g.add_edges_from([(0,1,0),(0,1,1), (1,2,0), (1,2,1)])\n",
    "g = g.to_directed()\n",
    "\n",
    "nx.edge_connectivity(g, 0,1)\n",
    "\n"
   ]
  },
  {
   "cell_type": "code",
   "execution_count": 20,
   "metadata": {},
   "outputs": [],
   "source": [
    "def edge_connectivity_maxflow(g, u, v):\n",
    "    \"\"\"\n",
    "    Computes edge connectivity between nodes u and v in a MultiDiGraph using max-flow.\n",
    "\n",
    "    Parameters:\n",
    "        g (nx.MultiDiGraph): Input multidigraph.\n",
    "        u (node): Source node.\n",
    "        v (node): Target node.\n",
    "\n",
    "    Returns:\n",
    "        int: Edge connectivity between u and v.\n",
    "    \"\"\"\n",
    "    flow_g = nx.DiGraph()\n",
    "    for (s, t, data) in g.edges(data=True):\n",
    "        if flow_g.has_edge(s, t):\n",
    "            flow_g[s][t][\"capacity\"] += 1  # Count parallel edges as capacity\n",
    "        else:\n",
    "            flow_g.add_edge(s, t, capacity=1)\n",
    "    flow_value, _ = nx.maximum_flow(flow_g, u, v)\n",
    "    return flow_value\n"
   ]
  },
  {
   "cell_type": "code",
   "execution_count": 21,
   "metadata": {},
   "outputs": [
    {
     "data": {
      "text/plain": [
       "2"
      ]
     },
     "execution_count": 21,
     "metadata": {},
     "output_type": "execute_result"
    }
   ],
   "source": [
    "edge_connectivity_maxflow(g,0,1)"
   ]
  }
 ],
 "metadata": {
  "kernelspec": {
   "display_name": "SyPeR-katyvasz",
   "language": "python",
   "name": "python3"
  },
  "language_info": {
   "codemirror_mode": {
    "name": "ipython",
    "version": 3
   },
   "file_extension": ".py",
   "mimetype": "text/x-python",
   "name": "python",
   "nbconvert_exporter": "python",
   "pygments_lexer": "ipython3",
   "version": "3.8.19"
  }
 },
 "nbformat": 4,
 "nbformat_minor": 2
}
